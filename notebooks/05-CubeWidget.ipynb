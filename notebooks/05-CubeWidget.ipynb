{
 "cells": [
  {
   "cell_type": "markdown",
   "metadata": {},
   "source": [
    "# CubeWidget"
   ]
  },
  {
   "cell_type": "markdown",
   "metadata": {},
   "source": [
    "The CubeWidget provides a visual interface to a Fits datacube using ginga/astrowidgets/ipywidgets. It is developed to function on any FITS cube in which the 1st data axis represents the spectral dim provided the WCS is included. Click on any spatial region to see the spectrum at that pixel. Use the play button to scan through wavelength space or the slider to get a specfic wavelength."
   ]
  },
  {
   "cell_type": "code",
   "execution_count": 1,
   "metadata": {},
   "outputs": [],
   "source": [
    "import os.path as op\n",
    "import numpy as np\n",
    "from astropy.io import fits\n",
    "from astropy.wcs import WCS\n",
    "#note I will make this separate from hetdex-api\n",
    "from hetdex_api.cube_widget import CubeWidget"
   ]
  },
  {
   "cell_type": "code",
   "execution_count": 2,
   "metadata": {},
   "outputs": [],
   "source": [
    "# Here's an example low redshift galaxy at z=0.078."
   ]
  },
  {
   "cell_type": "code",
   "execution_count": 3,
   "metadata": {},
   "outputs": [],
   "source": [
    "pdr1_dir = '/home/jovyan/Hobby-Eberly-Public/HETDEX/internal/pdr1/'\n",
    "if not op.exists(pdr1_dir):\n",
    "    pdr1_dir = 'pdr1/'"
   ]
  },
  {
   "cell_type": "code",
   "execution_count": 4,
   "metadata": {},
   "outputs": [],
   "source": [
    "shotid = 20190405020\n",
    "ifuslot = '034'"
   ]
  },
  {
   "cell_type": "code",
   "execution_count": 5,
   "metadata": {},
   "outputs": [],
   "source": [
    "datacube_path = op.join( pdr1_dir, 'datacubes', str(shotid), 'dex_cube_{}_{}.fits'.format( shotid, ifuslot))"
   ]
  },
  {
   "cell_type": "code",
   "execution_count": 6,
   "metadata": {},
   "outputs": [],
   "source": [
    "hdul = fits.open( datacube_path)"
   ]
  },
  {
   "cell_type": "code",
   "execution_count": 7,
   "metadata": {},
   "outputs": [],
   "source": [
    "flux = hdul[\"DATA\"].data\n",
    "error = hdul[\"ERROR\"].data\n",
    "mask = hdul[\"MASK\"].data\n",
    "header = hdul[\"DATA\"].header\n",
    "wcs = WCS(header)"
   ]
  },
  {
   "cell_type": "code",
   "execution_count": 9,
   "metadata": {},
   "outputs": [],
   "source": [
    "# apply mask\n",
    "data_mask = np.where( (mask > 0) | (flux == 0.0))\n",
    "flux[ data_mask] = 0.0"
   ]
  },
  {
   "cell_type": "code",
   "execution_count": 10,
   "metadata": {},
   "outputs": [
    {
     "data": {
      "application/vnd.jupyter.widget-view+json": {
       "model_id": "b420370586dd467cac9092540f4b3669",
       "version_major": 2,
       "version_minor": 0
      },
      "text/plain": [
       "HBox(children=(VBox(children=(HBox(children=(IntSlider(value=4540, continuous_update=False, description='wave'…"
      ]
     },
     "metadata": {},
     "output_type": "display_data"
    }
   ],
   "source": [
    "w = CubeWidget(im=flux, wcs=wcs)"
   ]
  },
  {
   "cell_type": "code",
   "execution_count": null,
   "metadata": {},
   "outputs": [],
   "source": []
  }
 ],
 "metadata": {
  "kernelspec": {
   "display_name": "Python 3 (ipykernel)",
   "language": "python",
   "name": "python3"
  },
  "language_info": {
   "codemirror_mode": {
    "name": "ipython",
    "version": 3
   },
   "file_extension": ".py",
   "mimetype": "text/x-python",
   "name": "python",
   "nbconvert_exporter": "python",
   "pygments_lexer": "ipython3",
   "version": "3.12.7"
  },
  "widgets": {
   "application/vnd.jupyter.widget-state+json": {
    "state": {
     "15513d4ce85e47c7bfc2a82828caac26": {
      "model_module": "@jupyter-widgets/controls",
      "model_module_version": "2.0.0",
      "model_name": "HTMLModel",
      "state": {
       "layout": "IPY_MODEL_60e8e770ed274c358b065ea85b3fd673",
       "style": "IPY_MODEL_db483253383b4b8ebee0e353ff5a7144",
       "value": "X: -0.50, Y: 103.50 (RA: 14:22:43.463, DEC: +52:06:20.00), value: N/A"
      }
     },
     "1b21423e73fc41e481f40c545bba938e": {
      "model_module": "@jupyter-widgets/base",
      "model_module_version": "2.0.0",
      "model_name": "LayoutModel",
      "state": {}
     },
     "2c9a7a00b9fd4c358f8f6bfecf7486e6": {
      "model_module": "@jupyter-widgets/controls",
      "model_module_version": "2.0.0",
      "model_name": "DescriptionStyleModel",
      "state": {
       "description_width": ""
      }
     },
     "2ebb25aa3fca47aba73995bc3bbb71e1": {
      "model_module": "jupyterlab-plotly",
      "model_module_version": "^5.20.0",
      "model_name": "FigureModel",
      "state": {
       "_config": {
        "editSelection": false,
        "plotlyServerURL": "https://plot.ly"
       },
       "_js2py_pointsCallback": {},
       "_js2py_restyle": {},
       "_js2py_update": {},
       "_last_layout_edit_id": 2,
       "_last_trace_edit_id": 1,
       "_layout": {
        "autosize": true,
        "template": {
         "data": {
          "scatter": [
           {
            "type": "scatter"
           }
          ]
         }
        }
       },
       "_py2js_addTraces": {},
       "_py2js_animate": {},
       "_py2js_deleteTraces": {},
       "_py2js_moveTraces": {},
       "_py2js_removeLayoutProps": {},
       "_py2js_removeTraceProps": {},
       "_py2js_restyle": {},
       "_view_count": 1
      }
     },
     "33c1d5cf71f3438aa05a280a797affe3": {
      "model_module": "@jupyter-widgets/controls",
      "model_module_version": "2.0.0",
      "model_name": "IntSliderModel",
      "state": {
       "behavior": "drag-tap",
       "continuous_update": false,
       "description": "Smooth σ",
       "layout": "IPY_MODEL_911c3de1de29460fbf286b3962ab75db",
       "max": 10,
       "style": "IPY_MODEL_50121c9dbdb04f1489cbada9be0f74ad"
      }
     },
     "3468d90574284c68b37e3ee99fe7ca02": {
      "model_module": "@jupyter-widgets/controls",
      "model_module_version": "2.0.0",
      "model_name": "HBoxModel",
      "state": {
       "children": [
        "IPY_MODEL_9b96462f2b2b4e9e8a179fcfe407a2b2",
        "IPY_MODEL_b8d4d74733184d28baea8688a65a0142"
       ],
       "layout": "IPY_MODEL_f5274eebaad94c9b9d01ad88f975663e"
      }
     },
     "3a6e55a1c03f4107aebe6a72089a6501": {
      "model_module": "@jupyter-widgets/controls",
      "model_module_version": "2.0.0",
      "model_name": "VBoxModel",
      "state": {
       "children": [
        "IPY_MODEL_b12e4f3f66f44e2e8edfa5978386adac",
        "IPY_MODEL_15513d4ce85e47c7bfc2a82828caac26"
       ],
       "layout": "IPY_MODEL_f5c4f80858f14102bd1d39a95406b49e"
      }
     },
     "40b4c6f1f9a64778af4ea69890e89ff5": {
      "model_module": "@jupyter-widgets/base",
      "model_module_version": "2.0.0",
      "model_name": "LayoutModel",
      "state": {}
     },
     "47807f63f640401eabe1a418c03b9bf5": {
      "model_module": "@jupyter-widgets/base",
      "model_module_version": "2.0.0",
      "model_name": "LayoutModel",
      "state": {}
     },
     "4b26e35daa3949b2a7dbdc6f5cf40eb9": {
      "model_module": "@jupyter-widgets/base",
      "model_module_version": "2.0.0",
      "model_name": "LayoutModel",
      "state": {}
     },
     "50121c9dbdb04f1489cbada9be0f74ad": {
      "model_module": "@jupyter-widgets/controls",
      "model_module_version": "2.0.0",
      "model_name": "SliderStyleModel",
      "state": {
       "description_width": ""
      }
     },
     "58c062c0d3f741f99993e37c391e8e90": {
      "model_module": "@jupyter-widgets/base",
      "model_module_version": "2.0.0",
      "model_name": "LayoutModel",
      "state": {}
     },
     "60e8e770ed274c358b065ea85b3fd673": {
      "model_module": "@jupyter-widgets/base",
      "model_module_version": "2.0.0",
      "model_name": "LayoutModel",
      "state": {}
     },
     "611d4e096cba42428f7f9056c706ba3d": {
      "model_module": "@jupyter-widgets/controls",
      "model_module_version": "2.0.0",
      "model_name": "PlayModel",
      "state": {
       "description": "Scan Cube",
       "layout": "IPY_MODEL_e81c407b33ab4abebfb99a07ff365e38",
       "max": 5542,
       "min": 3470,
       "step": 2,
       "style": "IPY_MODEL_2c9a7a00b9fd4c358f8f6bfecf7486e6",
       "value": 4500
      }
     },
     "64264ace04bf404a82e96cd8a46f5fec": {
      "model_module": "@jupyter-widgets/controls",
      "model_module_version": "2.0.0",
      "model_name": "VBoxModel",
      "state": {
       "_dom_classes": [
        "widget-interact"
       ],
       "children": [
        "IPY_MODEL_9d33c420943d481a89963a0ba748b294",
        "IPY_MODEL_74c1bcc80ac24b1c9b116404c738a3a2"
       ],
       "layout": "IPY_MODEL_58c062c0d3f741f99993e37c391e8e90"
      }
     },
     "6cb5089005434e358f68bbc423f79f98": {
      "model_module": "@jupyter-widgets/base",
      "model_module_version": "2.0.0",
      "model_name": "LayoutModel",
      "state": {
       "margin": "0"
      }
     },
     "74c1bcc80ac24b1c9b116404c738a3a2": {
      "model_module": "@jupyter-widgets/output",
      "model_module_version": "1.0.0",
      "model_name": "OutputModel",
      "state": {
       "layout": "IPY_MODEL_40b4c6f1f9a64778af4ea69890e89ff5",
       "outputs": [
        {
         "ename": "NameError",
         "evalue": "name 'viewer' is not defined",
         "output_type": "error",
         "traceback": [
          "\u001b[0;31m---------------------------------------------------------------------------\u001b[0m",
          "\u001b[0;31mNameError\u001b[0m                                 Traceback (most recent call last)",
          "\u001b[0;32m~/.local/lib/python3.9/site-packages/ipywidgets/widgets/interaction.py\u001b[0m in \u001b[0;36mupdate\u001b[0;34m(self, *args)\u001b[0m\n\u001b[1;32m    238\u001b[0m                     \u001b[0mvalue\u001b[0m \u001b[0;34m=\u001b[0m \u001b[0mwidget\u001b[0m\u001b[0;34m.\u001b[0m\u001b[0mget_interact_value\u001b[0m\u001b[0;34m(\u001b[0m\u001b[0;34m)\u001b[0m\u001b[0;34m\u001b[0m\u001b[0;34m\u001b[0m\u001b[0m\n\u001b[1;32m    239\u001b[0m                     \u001b[0mself\u001b[0m\u001b[0;34m.\u001b[0m\u001b[0mkwargs\u001b[0m\u001b[0;34m[\u001b[0m\u001b[0mwidget\u001b[0m\u001b[0;34m.\u001b[0m\u001b[0m_kwarg\u001b[0m\u001b[0;34m]\u001b[0m \u001b[0;34m=\u001b[0m \u001b[0mvalue\u001b[0m\u001b[0;34m\u001b[0m\u001b[0;34m\u001b[0m\u001b[0m\n\u001b[0;32m--> 240\u001b[0;31m                 \u001b[0mself\u001b[0m\u001b[0;34m.\u001b[0m\u001b[0mresult\u001b[0m \u001b[0;34m=\u001b[0m \u001b[0mself\u001b[0m\u001b[0;34m.\u001b[0m\u001b[0mf\u001b[0m\u001b[0;34m(\u001b[0m\u001b[0;34m**\u001b[0m\u001b[0mself\u001b[0m\u001b[0;34m.\u001b[0m\u001b[0mkwargs\u001b[0m\u001b[0;34m)\u001b[0m\u001b[0;34m\u001b[0m\u001b[0;34m\u001b[0m\u001b[0m\n\u001b[0m\u001b[1;32m    241\u001b[0m                 \u001b[0mshow_inline_matplotlib_plots\u001b[0m\u001b[0;34m(\u001b[0m\u001b[0;34m)\u001b[0m\u001b[0;34m\u001b[0m\u001b[0;34m\u001b[0m\u001b[0m\n\u001b[1;32m    242\u001b[0m                 \u001b[0;32mif\u001b[0m \u001b[0mself\u001b[0m\u001b[0;34m.\u001b[0m\u001b[0mauto_display\u001b[0m \u001b[0;32mand\u001b[0m \u001b[0mself\u001b[0m\u001b[0;34m.\u001b[0m\u001b[0mresult\u001b[0m \u001b[0;32mis\u001b[0m \u001b[0;32mnot\u001b[0m \u001b[0;32mNone\u001b[0m\u001b[0;34m:\u001b[0m\u001b[0;34m\u001b[0m\u001b[0;34m\u001b[0m\u001b[0m\n",
          "\u001b[0;32m~/hetdex_api/hetdex_api/cube_widget.py\u001b[0m in \u001b[0;36mshow_slice\u001b[0;34m(self, wave)\u001b[0m\n\u001b[1;32m    318\u001b[0m         \u001b[0mself\u001b[0m\u001b[0;34m.\u001b[0m\u001b[0mimage_show_slice\u001b[0m\u001b[0;34m(\u001b[0m\u001b[0mn\u001b[0m \u001b[0;34m-\u001b[0m \u001b[0;36m1\u001b[0m\u001b[0;34m)\u001b[0m\u001b[0;34m\u001b[0m\u001b[0;34m\u001b[0m\u001b[0m\n\u001b[1;32m    319\u001b[0m         \u001b[0mself\u001b[0m\u001b[0;34m.\u001b[0m\u001b[0mplot_spec\u001b[0m\u001b[0;34m(\u001b[0m\u001b[0mtrace_freeze\u001b[0m\u001b[0;34m=\u001b[0m\u001b[0;32mTrue\u001b[0m\u001b[0;34m)\u001b[0m\u001b[0;34m\u001b[0m\u001b[0;34m\u001b[0m\u001b[0m\n\u001b[0;32m--> 320\u001b[0;31m         \u001b[0msuper\u001b[0m\u001b[0;34m(\u001b[0m\u001b[0;34m)\u001b[0m\u001b[0;34m.\u001b[0m\u001b[0m_mouse_click_cb\u001b[0m\u001b[0;34m(\u001b[0m\u001b[0mviewer\u001b[0m\u001b[0;34m,\u001b[0m \u001b[0mevent\u001b[0m\u001b[0;34m,\u001b[0m \u001b[0mdata_x\u001b[0m\u001b[0;34m,\u001b[0m \u001b[0mdata_y\u001b[0m\u001b[0;34m)\u001b[0m\u001b[0;34m\u001b[0m\u001b[0;34m\u001b[0m\u001b[0m\n\u001b[0m\u001b[1;32m    321\u001b[0m \u001b[0;34m\u001b[0m\u001b[0m\n\u001b[1;32m    322\u001b[0m \u001b[0;34m\u001b[0m\u001b[0m\n",
          "\u001b[0;31mNameError\u001b[0m: name 'viewer' is not defined"
         ]
        }
       ]
      }
     },
     "88fdbc4e1e434858a0577d23588614f2": {
      "model_module": "@jupyter-widgets/controls",
      "model_module_version": "2.0.0",
      "model_name": "SliderStyleModel",
      "state": {
       "description_width": ""
      }
     },
     "8fa0bda2865f41c885642c3163fa95d2": {
      "model_module": "@jupyter-widgets/base",
      "model_module_version": "2.0.0",
      "model_name": "LayoutModel",
      "state": {}
     },
     "911c3de1de29460fbf286b3962ab75db": {
      "model_module": "@jupyter-widgets/base",
      "model_module_version": "2.0.0",
      "model_name": "LayoutModel",
      "state": {}
     },
     "9b96462f2b2b4e9e8a179fcfe407a2b2": {
      "model_module": "@jupyter-widgets/controls",
      "model_module_version": "2.0.0",
      "model_name": "VBoxModel",
      "state": {
       "children": [
        "IPY_MODEL_b40f1e43df934e83a1c8ca18ec3029e5",
        "IPY_MODEL_3a6e55a1c03f4107aebe6a72089a6501"
       ],
       "layout": "IPY_MODEL_e1474ccd9d0e40459b889fe75b48d94c"
      }
     },
     "9d33c420943d481a89963a0ba748b294": {
      "model_module": "@jupyter-widgets/controls",
      "model_module_version": "2.0.0",
      "model_name": "IntSliderModel",
      "state": {
       "behavior": "drag-tap",
       "continuous_update": false,
       "description": "wave",
       "layout": "IPY_MODEL_8fa0bda2865f41c885642c3163fa95d2",
       "max": 5542,
       "min": 3470,
       "step": 2,
       "style": "IPY_MODEL_88fdbc4e1e434858a0577d23588614f2",
       "value": 4500
      }
     },
     "9e30913321594aa2b651e45320a6f943": {
      "model_module": "@jupyter-widgets/base",
      "model_module_version": "2.0.0",
      "model_name": "LayoutModel",
      "state": {}
     },
     "b033b2511dc14c3797532f6297be23d5": {
      "model_module": "@jupyter-widgets/controls",
      "model_module_version": "2.0.0",
      "model_name": "ButtonModel",
      "state": {
       "button_style": "success",
       "description": "Scan Cube",
       "layout": "IPY_MODEL_47807f63f640401eabe1a418c03b9bf5",
       "style": "IPY_MODEL_d0bc2531e75c49408e28addfb1b47332",
       "tooltip": "Click this to scan in wavelength dimension"
      }
     },
     "b12e4f3f66f44e2e8edfa5978386adac": {
      "buffers": [
       {
        "data": "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",
        "encoding": "base64",
        "path": [
         "value"
        ]
       }
      ],
      "model_module": "@jupyter-widgets/controls",
      "model_module_version": "2.0.0",
      "model_name": "ImageModel",
      "state": {
       "_view_count": 1,
       "format": "jpeg",
       "height": "500",
       "layout": "IPY_MODEL_6cb5089005434e358f68bbc423f79f98",
       "width": "500"
      }
     },
     "b40f1e43df934e83a1c8ca18ec3029e5": {
      "model_module": "@jupyter-widgets/controls",
      "model_module_version": "2.0.0",
      "model_name": "HBoxModel",
      "state": {
       "children": [
        "IPY_MODEL_9d33c420943d481a89963a0ba748b294",
        "IPY_MODEL_611d4e096cba42428f7f9056c706ba3d"
       ],
       "layout": "IPY_MODEL_9e30913321594aa2b651e45320a6f943"
      }
     },
     "b8d4d74733184d28baea8688a65a0142": {
      "model_module": "@jupyter-widgets/controls",
      "model_module_version": "2.0.0",
      "model_name": "VBoxModel",
      "state": {
       "children": [
        "IPY_MODEL_2ebb25aa3fca47aba73995bc3bbb71e1",
        "IPY_MODEL_33c1d5cf71f3438aa05a280a797affe3",
        "IPY_MODEL_cdb244bf60594a1aaeacdc55093b6376"
       ],
       "layout": "IPY_MODEL_4b26e35daa3949b2a7dbdc6f5cf40eb9"
      }
     },
     "bdc33955dd61455786e97934211ccf90": {
      "model_module": "@jupyter-widgets/base",
      "model_module_version": "2.0.0",
      "model_name": "LayoutModel",
      "state": {}
     },
     "cdb244bf60594a1aaeacdc55093b6376": {
      "model_module": "@jupyter-widgets/controls",
      "model_module_version": "2.0.0",
      "model_name": "CheckboxModel",
      "state": {
       "description": "Display Single Spectrum",
       "disabled": false,
       "layout": "IPY_MODEL_1b21423e73fc41e481f40c545bba938e",
       "style": "IPY_MODEL_ebaaf3c16e734328aff1d375b92b16b5",
       "tooltip": "Click to plot one line at a time",
       "value": false
      }
     },
     "d0bc2531e75c49408e28addfb1b47332": {
      "model_module": "@jupyter-widgets/controls",
      "model_module_version": "2.0.0",
      "model_name": "ButtonStyleModel",
      "state": {
       "font_family": null,
       "font_size": null,
       "font_style": null,
       "font_variant": null,
       "font_weight": null,
       "text_color": null,
       "text_decoration": null
      }
     },
     "db483253383b4b8ebee0e353ff5a7144": {
      "model_module": "@jupyter-widgets/controls",
      "model_module_version": "2.0.0",
      "model_name": "HTMLStyleModel",
      "state": {
       "description_width": "",
       "font_size": null,
       "text_color": null
      }
     },
     "e1474ccd9d0e40459b889fe75b48d94c": {
      "model_module": "@jupyter-widgets/base",
      "model_module_version": "2.0.0",
      "model_name": "LayoutModel",
      "state": {}
     },
     "e810c4f1ce64447f8b7cbf960d8d5bbf": {
      "model_module": "ipyevents",
      "model_module_version": "2.0.1",
      "model_name": "EventModel",
      "state": {
       "_supported_key_events": [
        "keydown",
        "keyup"
       ],
       "_supported_mouse_events": [
        "click",
        "auxclick",
        "dblclick",
        "mouseenter",
        "mouseleave",
        "mousedown",
        "mouseup",
        "mousemove",
        "wheel",
        "contextmenu",
        "dragstart",
        "drag",
        "dragend",
        "dragenter",
        "dragover",
        "dragleave",
        "drop"
       ],
       "_supported_touch_events": [
        "touchstart",
        "touchend",
        "touchmove",
        "touchcancel"
       ],
       "_view_module": "@jupyter-widgets/controls",
       "prevent_default_action": true,
       "source": "IPY_MODEL_b12e4f3f66f44e2e8edfa5978386adac",
       "throttle_or_debounce": "",
       "watched_events": [
        "keydown",
        "keyup",
        "mouseenter",
        "mouseleave",
        "mousedown",
        "mouseup",
        "mousemove",
        "wheel",
        "contextmenu"
       ],
       "xy_coordinate_system": ""
      }
     },
     "e81c407b33ab4abebfb99a07ff365e38": {
      "model_module": "@jupyter-widgets/base",
      "model_module_version": "2.0.0",
      "model_name": "LayoutModel",
      "state": {}
     },
     "ebaaf3c16e734328aff1d375b92b16b5": {
      "model_module": "@jupyter-widgets/controls",
      "model_module_version": "2.0.0",
      "model_name": "CheckboxStyleModel",
      "state": {
       "description_width": ""
      }
     },
     "f5274eebaad94c9b9d01ad88f975663e": {
      "model_module": "@jupyter-widgets/base",
      "model_module_version": "2.0.0",
      "model_name": "LayoutModel",
      "state": {}
     },
     "f5c4f80858f14102bd1d39a95406b49e": {
      "model_module": "@jupyter-widgets/base",
      "model_module_version": "2.0.0",
      "model_name": "LayoutModel",
      "state": {
       "width": "500"
      }
     },
     "fab68b2e448646b9b75191bfff23f5ab": {
      "model_module": "@jupyter-widgets/output",
      "model_module_version": "1.0.0",
      "model_name": "OutputModel",
      "state": {
       "layout": "IPY_MODEL_bdc33955dd61455786e97934211ccf90"
      }
     },
     "fee38364a0344f6e831d093349e87822": {
      "model_module": "@jupyter-widgets/controls",
      "model_module_version": "2.0.0",
      "model_name": "LinkModel",
      "state": {
       "source": [
        "IPY_MODEL_611d4e096cba42428f7f9056c706ba3d",
        "value"
       ],
       "target": [
        "IPY_MODEL_9d33c420943d481a89963a0ba748b294",
        "value"
       ]
      }
     }
    },
    "version_major": 2,
    "version_minor": 0
   }
  }
 },
 "nbformat": 4,
 "nbformat_minor": 4
}
