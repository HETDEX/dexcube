{
 "cells": [
  {
   "cell_type": "markdown",
   "id": "1546ea83-a266-4f13-8eb8-d5cc6f72ee56",
   "metadata": {},
   "source": [
    "# Batch Processing"
   ]
  },
  {
   "cell_type": "markdown",
   "id": "f6ebc1f0-ff62-4a44-be62-7860e5a55155",
   "metadata": {},
   "source": [
    "The FITS datacubes are compressed. This saves storage space and allows for faster downloads of the full data release, but the downside is that reading data is incredibly slow (about 15s per cube, compared to 0.03s on an uncompressed cube.). We recommend decompressing the cubes and saving to out_dir."
   ]
  },
  {
   "cell_type": "code",
   "execution_count": 1,
   "id": "49765cb5-4f3e-41a2-b7b1-157a8b1bfae0",
   "metadata": {},
   "outputs": [],
   "source": [
    "import os.path as op\n",
    "from joblib import Parallel, delayed\n",
    "import numpy as np\n",
    "from astropy.table import Column, Table, hstack, unique\n",
    "\n",
    "from astropy.coordinates import SkyCoord\n",
    "import astropy.units as u\n",
    "from astropy.io import fits\n",
    "\n",
    "from astropy.wcs import WCS\n",
    "from astropy.wcs.utils import proj_plane_pixel_scales\n",
    "\n",
    "import matplotlib.pyplot as plt\n",
    "from matplotlib.colors import LogNorm\n",
    "\n",
    "from tqdm import tqdm\n",
    "import traceback\n",
    "import time"
   ]
  },
  {
   "cell_type": "code",
   "execution_count": 2,
   "id": "12f8ce30-0650-44ff-800c-2ebd942effde",
   "metadata": {},
   "outputs": [],
   "source": [
    "pdr1_dir = '/home/jovyan/Hobby-Eberly-Public/HETDEX/internal/pdr1/'\n",
    "ifu_data = Table.read(op.join( pdr1_dir, 'ifu-index.fits'))"
   ]
  },
  {
   "cell_type": "code",
   "execution_count": 3,
   "id": "48016742-7556-4d72-ab6d-89fcf010d338",
   "metadata": {},
   "outputs": [],
   "source": [
    "# Create SkyCoord Object array for IFU centers\n",
    "ifu_coords = SkyCoord( ra=ifu_data['ra_cen']*u.deg, dec=ifu_data['dec_cen']*u.deg)"
   ]
  },
  {
   "cell_type": "markdown",
   "id": "93e5cf14-90a9-4d95-b76e-930f45677977",
   "metadata": {},
   "source": [
    "## Optimize by Decompressing FITS files"
   ]
  },
  {
   "cell_type": "markdown",
   "id": "d0f979d4-1bef-413b-bb48-79bce970fa23",
   "metadata": {},
   "source": [
    "This will copy the fits files to /tmp/datacubes/ or a defined diretory and will increase read time by a factor of 100. First we have an example code to do the decompression. Then we have a function that will do the decompression in parallel."
   ]
  },
  {
   "cell_type": "code",
   "execution_count": 4,
   "id": "f967c8fb-3583-42cf-a0bc-366abc85e7f6",
   "metadata": {},
   "outputs": [],
   "source": [
    "def decompress_ifu(shotid, ifuslot, pdr1_dir, out_dir=\"/tmp\", verbose=False):\n",
    "    \"\"\"\n",
    "    Decompress a RICE-compressed IFU FITS cube and save to /out_dir/datacubes/{shotid}/.\n",
    "    Returns a tuple: (shotid, ifuslot, output_path, success_flag, error_message)\n",
    "    \"\"\"\n",
    "    import os\n",
    "    import os.path as op\n",
    "    from astropy.io import fits\n",
    "    import traceback\n",
    "\n",
    "    infile = op.join(pdr1_dir, 'datacubes', str(shotid), f'dex_cube_{shotid}_{ifuslot}.fits')\n",
    "    outdir = op.join(out_dir, 'datacubes', str(shotid))\n",
    "    os.makedirs(outdir, exist_ok=True)\n",
    "\n",
    "    outfile = op.join(outdir, f'dex_cube_{shotid}_{ifuslot}.fits')# keeping same file structure\n",
    "\n",
    "    if op.exists(outfile):\n",
    "        return (shotid, ifuslot, outfile, True, None)\n",
    "\n",
    "    try:\n",
    "        with fits.open(infile, memmap=False) as hdul:\n",
    "            new_hdul = fits.HDUList()\n",
    "            for hdu in hdul:\n",
    "                if isinstance(hdu, fits.CompImageHDU):\n",
    "                    new_hdul.append(fits.ImageHDU(data=hdu.data, header=hdu.header))\n",
    "                else:\n",
    "                    new_hdul.append(hdu.copy())\n",
    "            new_hdul.writeto(outfile, overwrite=True)\n",
    "\n",
    "        if verbose:\n",
    "            print(f\"✓ Decompressed: {shotid}-{ifuslot}\")\n",
    "        return (shotid, ifuslot, outfile, True, None)\n",
    "\n",
    "    except Exception as e:\n",
    "        err_msg = traceback.format_exc()\n",
    "        if verbose:\n",
    "            print(f\"✗ Failed: {shotid}-{ifuslot}\\n{err_msg}\")\n",
    "        return (shotid, ifuslot, None, False, err_msg)"
   ]
  },
  {
   "cell_type": "code",
   "execution_count": 5,
   "id": "eb9338a8-7643-4ad0-994b-2c98c18110e2",
   "metadata": {},
   "outputs": [],
   "source": [
    "def batch_decompress_ifus(ifu_list, data_dir, out_dir=\"/tmp\", n_jobs=4, verbose=False):\n",
    "    \"\"\"\n",
    "    Decompress a list of IFU cubes in parallel with progress and logging.\n",
    "\n",
    "    Returns:\n",
    "        results: list of tuples (shotid, ifuslot, path, success, error_msg)\n",
    "    \"\"\"\n",
    "    results = Parallel(n_jobs=n_jobs)(\n",
    "        delayed(decompress_ifu)(shotid, ifuslot, pdr1_dir, out_dir, verbose=False)\n",
    "        for shotid, ifuslot in tqdm(ifu_list, desc=\"Decompressing IFUs\", ncols=80)\n",
    "    )\n",
    "\n",
    "    failed = [r for r in results if not r[3]]\n",
    "    if failed:\n",
    "        print(f\"\\n⚠️  {len(failed)} cubes failed to decompress.\")\n",
    "        for f in failed:\n",
    "            shotid, ifuslot, _, _, err_msg = f\n",
    "            print(f\" - {shotid}-{ifuslot}: {err_msg.splitlines()[-1]}\")\n",
    "    else:\n",
    "        print(\"\\n✅ All cubes decompressed successfully.\")\n",
    "\n",
    "    return results"
   ]
  },
  {
   "cell_type": "markdown",
   "id": "8f073ba4-1c82-4bcc-9266-34b1c1d648b7",
   "metadata": {},
   "source": [
    "## Example Decompression for a single coordinate with multiple observations"
   ]
  },
  {
   "cell_type": "code",
   "execution_count": 6,
   "id": "07663777-02d0-4581-b35b-4c73a84d9d7f",
   "metadata": {},
   "outputs": [
    {
     "name": "stdout",
     "output_type": "stream",
     "text": [
      "[(20181118020, '036'), (20181119015, '036'), (20181119016, '036'), (20181120012, '036'), (20181120013, '036'), (20220130020, '024'), (20220131010, '040'), (20240310015, '070'), (20240313016, '070')]\n"
     ]
    }
   ],
   "source": [
    "coord = SkyCoord(ra=150.23189*u.deg, dec=2.363963*u.deg)\n",
    "\n",
    "# find list of possible datacubes with coverage\n",
    "sel = coord.separation( ifu_coords) < 26*u.arcsec\n",
    "# this AGN is observed 9 times\n",
    "ifulist=ifu_data[sel]\n",
    "ifu_pairs = [(int(row['shotid']), str(row['ifuslot'])) for row in ifulist]\n",
    "print(ifu_pairs)"
   ]
  },
  {
   "cell_type": "code",
   "execution_count": 7,
   "id": "5398af5e-d2f8-45ff-857e-b9114ae9b94f",
   "metadata": {},
   "outputs": [],
   "source": [
    "# location of decompressed cubes\n",
    "out_dir = './decompressed'\n",
    "for shotid, ifuslot in ifu_pairs:\n",
    "    decompress_ifu( shotid, ifuslot, pdr1_dir, out_dir, verbose=False)\n"
   ]
  },
  {
   "cell_type": "markdown",
   "id": "d46134ca-821b-4b5a-971a-101ccc311fd2",
   "metadata": {},
   "source": [
    "## Example Batch Decompression on a Large Catalog"
   ]
  },
  {
   "cell_type": "code",
   "execution_count": 8,
   "id": "85ab3f3b-100e-49f8-b953-934acf211292",
   "metadata": {},
   "outputs": [],
   "source": [
    "catalog = Table.read('dr16q_hdr5.fits')\n",
    "catalog.remove_column('shotid') # this example might be done witih different catalog later\n",
    "catalog_coords = SkyCoord(ra = catalog['ra'], dec= catalog['dec'], unit='deg')"
   ]
  },
  {
   "cell_type": "code",
   "execution_count": 9,
   "id": "402f323a-390f-406b-8e27-a990c7b71cc1",
   "metadata": {},
   "outputs": [],
   "source": [
    "idx_ifu, idx_catalog, d2d, d3d = catalog_coords.search_around_sky(ifu_coords, 35*u.arcsec)"
   ]
  },
  {
   "cell_type": "code",
   "execution_count": 10,
   "id": "02f3d99f-024d-4ac8-90e2-c1dd58b82299",
   "metadata": {},
   "outputs": [],
   "source": [
    "# create master table that matches IFU observation coverage with catalog objects"
   ]
  },
  {
   "cell_type": "code",
   "execution_count": 12,
   "id": "e8d0492e-4578-4837-ae0d-6035076099dc",
   "metadata": {},
   "outputs": [],
   "source": [
    "table = hstack( [catalog_coords[idx_catalog], catalog[idx_catalog], ifu_data[idx_ifu]] )\n",
    "table.rename_column('col0', 'coords')"
   ]
  },
  {
   "cell_type": "code",
   "execution_count": 15,
   "id": "9cad7c27-59a0-45fa-96bc-a01cc6d73f8f",
   "metadata": {},
   "outputs": [],
   "source": [
    "# reduce cube list to unique IFU observations"
   ]
  },
  {
   "cell_type": "code",
   "execution_count": 16,
   "id": "3d6b2254-b080-493d-898d-887369cc6c62",
   "metadata": {},
   "outputs": [],
   "source": [
    "ifulist = unique( table['shotid', 'ifuslot'])"
   ]
  },
  {
   "cell_type": "code",
   "execution_count": 17,
   "id": "160bd9fd-21ba-4011-a8a9-aaaf1bb607f3",
   "metadata": {},
   "outputs": [],
   "source": [
    "# Make sure 'ifuslot' is a string to preserve naming like '034'\n",
    "ifu_pairs = [(int(row['shotid']), str(row['ifuslot'])) for row in ifulist]"
   ]
  },
  {
   "cell_type": "code",
   "execution_count": null,
   "id": "eb3a3a65-e728-4f37-b14b-7fd34ddc4e8a",
   "metadata": {},
   "outputs": [],
   "source": [
    "results = batch_decompress_ifus(\n",
    "    ifu_pairs,\n",
    "    data_dir=pdr1_dir,\n",
    "    out_dir='./decompressed/',\n",
    "    n_jobs=100,\n",
    "    verbose=False\n",
    ")"
   ]
  }
 ],
 "metadata": {
  "kernelspec": {
   "display_name": "Python 3 (ipykernel)",
   "language": "python",
   "name": "python3"
  },
  "language_info": {
   "codemirror_mode": {
    "name": "ipython",
    "version": 3
   },
   "file_extension": ".py",
   "mimetype": "text/x-python",
   "name": "python",
   "nbconvert_exporter": "python",
   "pygments_lexer": "ipython3",
   "version": "3.12.7"
  },
  "widgets": {
   "application/vnd.jupyter.widget-state+json": {
    "state": {},
    "version_major": 2,
    "version_minor": 0
   }
  }
 },
 "nbformat": 4,
 "nbformat_minor": 5
}
